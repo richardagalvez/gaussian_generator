{
 "cells": [
  {
   "cell_type": "code",
   "execution_count": 1,
   "metadata": {},
   "outputs": [
    {
     "data": {
      "text/html": [
       "<style>.container { width:85% !important; }</style>"
      ],
      "text/plain": [
       "<IPython.core.display.HTML object>"
      ]
     },
     "metadata": {},
     "output_type": "display_data"
    }
   ],
   "source": [
    "from IPython.core.display import display, HTML\n",
    "display(HTML(\"<style>.container { width:85% !important; }</style>\"))"
   ]
  },
  {
   "cell_type": "code",
   "execution_count": 2,
   "metadata": {
    "scrolled": true
   },
   "outputs": [],
   "source": [
    "import numpy as np\n",
    "import pandas as pd\n",
    "import matplotlib.pyplot as plt\n",
    "from cycler import cycler\n",
    "\n",
    "import torch\n",
    "import torch.nn as nn\n",
    "from torch.utils.data import DataLoader\n",
    "from torch.autograd import Variable\n",
    "import torch.nn.functional as F\n",
    "\n",
    "import torchvision.transforms as transforms\n",
    "import torchvision.utils as vutils\n",
    "from torchvision.utils import save_image\n",
    "from torchvision.transforms import ToPILImage, Resize\n",
    "import torchvision.datasets as dset\n",
    "to_img  = ToPILImage()\n",
    "resize_img  = Resize(200)\n",
    "def show_img(img):\n",
    "    return resize_img(to_img(img))\n",
    "\n",
    "cmap=plt.cm.tab10\n",
    "c = cycler('color', cmap(np.linspace(0,1,10)))\n",
    "plt.rcParams[\"axes.prop_cycle\"] = c\n",
    "\n",
    "%config InlineBackend.figure_format = 'retina'\n",
    "%matplotlib notebook\n",
    "%matplotlib notebook\n",
    "\n",
    "%load_ext autoreload\n",
    "%autoreload 2\n",
    "\n",
    "def img_ae(x):\n",
    "    x = 0.5 * (x + 1)\n",
    "    x = x.clamp(0, 1)\n",
    "    x = x.view(x.size(0), 1, 64, 64)\n",
    "    return x"
   ]
  },
  {
   "cell_type": "code",
   "execution_count": 131,
   "metadata": {},
   "outputs": [],
   "source": [
    "%matplotlib inline"
   ]
  },
  {
   "cell_type": "code",
   "execution_count": 171,
   "metadata": {},
   "outputs": [],
   "source": [
    "dataset = dset.ImageFolder(root='/scratch/rag394/data/gaussian_generator/',\n",
    "                           transform=transforms.Compose([\n",
    "                                   transforms.Grayscale(),\n",
    "                                   transforms.Resize(128),\n",
    "                                   transforms.CenterCrop(128),\n",
    "                                   transforms.ToTensor(),\n",
    "                                   transforms.Normalize((0.5,),(0.5,)),\n",
    "                               ]))\n",
    "\n",
    "dataloader = torch.utils.data.DataLoader(dataset, batch_size=1,\n",
    "                                         shuffle=False, num_workers=8)\n",
    "\n",
    "targets = pd.read_csv('/scratch/rag394/data/gaussian_generator/gaussian_parameters.csv').drop(['Unnamed: 0'], 1).values\n",
    "targets = Variable(torch.from_numpy(targets).type(torch.FloatTensor), requires_grad=False)\n",
    "targets = targets.cuda()"
   ]
  },
  {
   "cell_type": "code",
   "execution_count": 172,
   "metadata": {},
   "outputs": [],
   "source": [
    "class CNN(nn.Module):\n",
    "    def __init__(self):\n",
    "        super(CNN, self).__init__()\n",
    "        self.layer1 = nn.Sequential(\n",
    "            nn.Conv2d(1, 16, kernel_size=5, padding=2),\n",
    "            nn.BatchNorm2d(16),\n",
    "            nn.ReLU(),\n",
    "            nn.MaxPool2d(2))\n",
    "        self.layer2 = nn.Sequential(\n",
    "            nn.Conv2d(16, 32, kernel_size=5, padding=2),\n",
    "            nn.BatchNorm2d(32),\n",
    "            nn.ReLU(),\n",
    "            nn.MaxPool2d(2))\n",
    "        self.fc = nn.Linear(32*32*32, 4)\n",
    "        \n",
    "    def forward(self, x):\n",
    "        out = self.layer1(x)\n",
    "        out = self.layer2(out)\n",
    "        out = out.view(out.size(0), -1)\n",
    "        out = self.fc(out)\n",
    "        return out"
   ]
  },
  {
   "cell_type": "code",
   "execution_count": 173,
   "metadata": {},
   "outputs": [
    {
     "data": {
      "text/plain": [
       "CNN(\n",
       "  (layer1): Sequential(\n",
       "    (0): Conv2d (1, 16, kernel_size=(5, 5), stride=(1, 1), padding=(2, 2))\n",
       "    (1): BatchNorm2d(16, eps=1e-05, momentum=0.1, affine=True)\n",
       "    (2): ReLU()\n",
       "    (3): MaxPool2d(kernel_size=(2, 2), stride=(2, 2), dilation=(1, 1))\n",
       "  )\n",
       "  (layer2): Sequential(\n",
       "    (0): Conv2d (16, 32, kernel_size=(5, 5), stride=(1, 1), padding=(2, 2))\n",
       "    (1): BatchNorm2d(32, eps=1e-05, momentum=0.1, affine=True)\n",
       "    (2): ReLU()\n",
       "    (3): MaxPool2d(kernel_size=(2, 2), stride=(2, 2), dilation=(1, 1))\n",
       "  )\n",
       "  (fc): Linear(in_features=32768, out_features=4)\n",
       ")"
      ]
     },
     "execution_count": 173,
     "metadata": {},
     "output_type": "execute_result"
    }
   ],
   "source": [
    "model"
   ]
  },
  {
   "cell_type": "code",
   "execution_count": 174,
   "metadata": {},
   "outputs": [],
   "source": [
    "model = CNN()\n",
    "model.cuda()\n",
    "optimizer = torch.optim.Adam(model.parameters(),lr=1.0e-3)\n",
    "criterion = nn.SmoothL1Loss()\n",
    "total_loss = []"
   ]
  },
  {
   "cell_type": "code",
   "execution_count": null,
   "metadata": {
    "scrolled": false
   },
   "outputs": [
    {
     "name": "stdout",
     "output_type": "stream",
     "text": [
      "epoch [1/100], loss:0.0857\n",
      "epoch [2/100], loss:0.0852\n",
      "epoch [3/100], loss:0.0845\n",
      "epoch [4/100], loss:0.0842\n",
      "epoch [5/100], loss:0.0842\n",
      "epoch [6/100], loss:0.0837\n",
      "epoch [7/100], loss:0.0831\n",
      "epoch [8/100], loss:0.0821\n",
      "epoch [9/100], loss:0.0816\n",
      "epoch [10/100], loss:0.0807\n",
      "epoch [11/100], loss:0.0801\n",
      "epoch [12/100], loss:0.0794\n",
      "epoch [13/100], loss:0.0791\n",
      "epoch [14/100], loss:0.0784\n",
      "epoch [15/100], loss:0.0783\n",
      "epoch [16/100], loss:0.0783\n",
      "epoch [17/100], loss:0.0781\n",
      "epoch [18/100], loss:0.0777\n",
      "epoch [19/100], loss:0.0769\n",
      "epoch [20/100], loss:0.0767\n",
      "epoch [21/100], loss:0.0757\n",
      "epoch [22/100], loss:0.0756\n",
      "epoch [23/100], loss:0.0749\n"
     ]
    }
   ],
   "source": [
    "num_epochs = 100\n",
    "for epoch in range(num_epochs):\n",
    "    iter_mean = []\n",
    "    for k, data in enumerate(dataloader):\n",
    "        if k == 2000:\n",
    "            break\n",
    "        img, _ = data\n",
    "        img = Variable(img).cuda()\n",
    "        # ===================forward=====================\n",
    "        output = model(img)\n",
    "        loss   = criterion(output, targets[k,:])\n",
    "        \n",
    "        # ===================backward====================\n",
    "        optimizer.zero_grad()\n",
    "        loss.backward()\n",
    "        optimizer.step()\n",
    "        iter_mean.append(loss.data[0])\n",
    "    # ===================log========================\n",
    "    print('epoch [{}/{}], loss:{:.4f}'\n",
    "          .format(epoch+1, num_epochs, np.mean(iter_mean)))\n",
    "    total_loss.append(np.mean(iter_mean))\n",
    "\n",
    "torch.save(model.state_dict(), '/scratch/rag394/data/ae/conv_gaussian_encoder.pth')"
   ]
  },
  {
   "cell_type": "code",
   "execution_count": 176,
   "metadata": {},
   "outputs": [
    {
     "data": {
      "image/png": "[encoded data removed]",
      "text/plain": [
       "<Figure size 648x504 with 1 Axes>"
      ]
     },
     "metadata": {
      "image/png": {
       "height": 426,
       "width": 554
      }
     },
     "output_type": "display_data"
    }
   ],
   "source": [
    "fig, ax = plt.subplots(figsize=(9,7))\n",
    "pd.Series(total_loss, name='MSE Loss').plot(ax=ax,color='darkred', \n",
    "                                            lw=0.6, marker='s', markersize=3., legend=True)\n",
    "ax.grid(alpha=0.2)\n",
    "ax.set_xlabel('Epoch')\n",
    "\n",
    "ax.spines['right'].set_visible(False)\n",
    "ax.spines['top'].set_visible(False)\n",
    "ax.spines['left'].set_visible(False)\n",
    "ax.spines['bottom'].set_alpha(False)\n",
    "ax.grid(alpha=0.3)"
   ]
  },
  {
   "cell_type": "code",
   "execution_count": 178,
   "metadata": {},
   "outputs": [
    {
     "name": "stderr",
     "output_type": "stream",
     "text": [
      "/home/rag394/.local/lib/python3.6/site-packages/ipykernel_launcher.py:15: RuntimeWarning: covariance is not positive-semidefinite.\n",
      "  from ipykernel import kernelapp as app\n"
     ]
    },
    {
     "name": "stdout",
     "output_type": "stream",
     "text": [
      "Variable containing:\n",
      " 1.0486  1.1484\n",
      " 1.1484  1.4069\n",
      "[torch.cuda.FloatTensor of size 2x2 (GPU 0)]\n",
      " Variable containing:\n",
      " 0.8066  0.0031\n",
      " 0.0024  0.6448\n",
      "[torch.cuda.FloatTensor of size 2x2 (GPU 0)]\n",
      "\n",
      "[0.40275946]\n"
     ]
    },
    {
     "data": {
      "image/png": "[encoded data removed]",
      "text/plain": [
       "<Figure size 864x432 with 2 Axes>"
      ]
     },
     "metadata": {
      "image/png": {
       "height": 372,
       "width": 707
      }
     },
     "output_type": "display_data"
    }
   ],
   "source": [
    "for k, data in enumerate(dataloader):\n",
    "        if k == 7:\n",
    "            img, _ = data\n",
    "            img = Variable(img).cuda()\n",
    "            real = targets[k,:]\n",
    "            output = model(img)\n",
    "            error = criterion(output, real)\n",
    "            break\n",
    "\n",
    "cov_fake = output.view(2,2)\n",
    "cov_real = real.view(2,2)\n",
    "\n",
    "fig, ax = plt.subplots(ncols=2, figsize=(12,6),frameon=False)\n",
    "\n",
    "x, y = np.random.multivariate_normal([0, 0], cov_fake.data.cpu().numpy(), 50000).T\n",
    "\n",
    "ax[0].hist2d(x,y,bins=64,cmap='Greys_r');\n",
    "ax[0].axis('off')\n",
    "ax[0].set_title('fake')\n",
    "\n",
    "x, y = np.random.multivariate_normal([0, 0], cov_real.data.cpu().numpy(), 50000).T\n",
    "\n",
    "ax[1].hist2d(x,y,bins=64,cmap='Greys_r');\n",
    "ax[1].axis('off')\n",
    "ax[1].set_title('real')\n",
    "\n",
    "print(cov_real, cov_fake);\n",
    "print(error.data.cpu().numpy())"
   ]
  },
  {
   "cell_type": "markdown",
   "metadata": {},
   "source": [
    "### Notes "
   ]
  },
  {
   "cell_type": "code",
   "execution_count": null,
   "metadata": {},
   "outputs": [],
   "source": [
    "class autoencoder(nn.Module):\n",
    "    def __init__(self):\n",
    "        super(autoencoder, self).__init__()\n",
    "        \n",
    "        self.encoder = nn.Sequential(\n",
    "            nn.Conv2d(1, 16, 3, stride=3, padding=1),  # b, 16, 10, 10\n",
    "            nn.ReLU(True),\n",
    "            nn.MaxPool2d(2, stride=2),  # b, 16, 5, 5\n",
    "            nn.Conv2d(16, 8, 3, stride=2, padding=1),  # b, 8, 3, 3\n",
    "            nn.ReLU(True),\n",
    "            nn.MaxPool2d(2, stride=1), # b, 8, 2, 2\n",
    "            nn.Linear(200,4))\n",
    "        \n",
    "        self.decoder = nn.Sequential(\n",
    "            nn.Linear(4,200),\n",
    "            nn.ConvTranspose2d(8, 16, 3, stride=2),  # b, 16, 5, 5\n",
    "            nn.ReLU(True),\n",
    "            nn.ConvTranspose2d(16, 8, 5, stride=3, padding=1),  # b, 8, 15, 15\n",
    "            nn.ReLU(True),\n",
    "            nn.ConvTranspose2d(8, 1, 2, stride=2, padding=1),  # b, 1, 28, 28\n",
    "            nn.Tanh())\n",
    "\n",
    "    def forward(self, x):\n",
    "        enc = self.encoder(x)\n",
    "        dec = self.decoder(enc)\n",
    "        \n",
    "        return enc, dec"
   ]
  },
  {
   "cell_type": "code",
   "execution_count": null,
   "metadata": {},
   "outputs": [],
   "source": [
    "class GaussianModel(nn.Module):\n",
    "    def __init__(self):\n",
    "        super(GaussianModel, self).__init__()\n",
    "        self.conv1 = nn.Conv2d(1, 16, 3, stride=3, padding=1)\n",
    "        self.conv2 = nn.Conv2d(10, 20, kernel_size=5)\n",
    "        self.fc1 = nn.Linear(320, 50)\n",
    "        self.fc2 = nn.Linear(50, 4)\n",
    "\n",
    "    def forward(self, x):\n",
    "        x = F.relu(F.max_pool2d(self.conv1(x), 2))\n",
    "        x = F.relu(F.max_pool2d(self.conv2(x), 2))\n",
    "        x = x.view(-1, 320)\n",
    "        x = F.relu(self.fc1(x))\n",
    "        x = self.fc2(x)\n",
    "        return x"
   ]
  }
 ],
 "metadata": {
  "kernelspec": {
   "display_name": "Python 3",
   "language": "python",
   "name": "python3"
  },
  "language_info": {
   "codemirror_mode": {
    "name": "ipython",
    "version": 3
   },
   "file_extension": ".py",
   "mimetype": "text/x-python",
   "name": "python",
   "nbconvert_exporter": "python",
   "pygments_lexer": "ipython3",
   "version": "3.6.3"
  }
 },
 "nbformat": 4,
 "nbformat_minor": 2
}
