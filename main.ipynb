{
 "cells": [
  {
   "cell_type": "code",
   "execution_count": null,
   "metadata": {},
   "outputs": [],
   "source": [
    "from IPython.core.display import display, HTML\n",
    "display(HTML(\"<style>.container { width:85% !important; }</style>\"))"
   ]
  },
  {
   "cell_type": "code",
   "execution_count": 1,
   "metadata": {
    "scrolled": true
   },
   "outputs": [],
   "source": [
    "import numpy as np\n",
    "import pandas as pd\n",
    "import matplotlib.pyplot as plt\n",
    "from cycler import cycler\n",
    "\n",
    "import torch\n",
    "import torch.nn as nn\n",
    "from torch.utils.data import DataLoader\n",
    "from torch.autograd import Variable\n",
    "import torch.nn.functional as F\n",
    "\n",
    "import torchvision.transforms as transforms\n",
    "import torchvision.utils as vutils\n",
    "from torchvision.transforms import ToPILImage, Resize\n",
    "import torchvision.datasets as dset\n",
    "to_img  = ToPILImage()\n",
    "resize_img  = Resize(100)\n",
    "def show_img(img):\n",
    "    return resize_img(to_img(img))\n",
    "\n",
    "cmap=plt.cm.tab10\n",
    "c = cycler('color', cmap(np.linspace(0,1,10)))\n",
    "plt.rcParams[\"axes.prop_cycle\"] = c\n",
    "\n",
    "%config InlineBackend.figure_format = 'retina'\n",
    "%matplotlib notebook\n",
    "%matplotlib notebook\n",
    "\n",
    "%load_ext autoreload\n",
    "%autoreload 2"
   ]
  },
  {
   "cell_type": "code",
   "execution_count": 12,
   "metadata": {},
   "outputs": [],
   "source": [
    "bs = 1\n",
    "\n",
    "dataset = dset.ImageFolder(root='/scratch/rag394/data/gaussian_generator/',\n",
    "                           transform=transforms.Compose([\n",
    "                                   transforms.Grayscale(),\n",
    "                                   transforms.Resize(28),\n",
    "                                   transforms.CenterCrop(28),\n",
    "                                   transforms.ToTensor(),\n",
    "                                   transforms.Normalize((0.5,),(0.5,)),\n",
    "                               ]))\n",
    "\n",
    "dataloader = torch.utils.data.DataLoader(dataset, batch_size=bs,\n",
    "                                         shuffle=False, num_workers=32)"
   ]
  },
  {
   "cell_type": "code",
   "execution_count": 13,
   "metadata": {},
   "outputs": [],
   "source": [
    "targets = pd.read_csv('/scratch/rag394/data/gaussian_generator/gaussian_parameters.csv').drop(['Unnamed: 0'], 1).values\n",
    "targets = np.reshape(targets,[10000//bs,bs,4])\n",
    "targets = Variable(torch.from_numpy(targets).type(torch.FloatTensor), requires_grad=False)\n",
    "targets = targets.cuda()"
   ]
  },
  {
   "cell_type": "code",
   "execution_count": 14,
   "metadata": {},
   "outputs": [],
   "source": [
    "class GaussianModel(nn.Module):\n",
    "    def __init__(self):\n",
    "        super(GaussianModel, self).__init__()\n",
    "        self.conv1 = nn.Conv2d(1, 10, kernel_size=5)\n",
    "        self.conv2 = nn.Conv2d(10, 20, kernel_size=5)\n",
    "        self.fc1 = nn.Linear(320, 50)\n",
    "        self.fc2 = nn.Linear(50, 4)\n",
    "\n",
    "    def forward(self, x):\n",
    "        x = F.relu(F.max_pool2d(self.conv1(x), 2))\n",
    "        x = F.relu(F.max_pool2d(self.conv2(x), 2))\n",
    "        x = x.view(-1, 320)\n",
    "        x = F.relu(self.fc1(x))\n",
    "        x = self.fc2(x)\n",
    "        return x"
   ]
  },
  {
   "cell_type": "code",
   "execution_count": 15,
   "metadata": {},
   "outputs": [],
   "source": [
    "model = GaussianModel()\n",
    "model.cuda()\n",
    "optimizer = torch.optim.RMSprop(model.parameters(),lr=1.0e-2)\n",
    "loss_fn = nn.MSELoss()"
   ]
  },
  {
   "cell_type": "code",
   "execution_count": null,
   "metadata": {
    "scrolled": false
   },
   "outputs": [
    {
     "name": "stdout",
     "output_type": "stream",
     "text": [
      "batches in this run: 10000\n",
      "[0:0]  1.3708349466323853\n",
      "[0:2000]  0.11780326068401337\n"
     ]
    }
   ],
   "source": [
    "%%time \n",
    "\n",
    "print('batches in this run: {}'.format(10000//bs))\n",
    "total_loss = []\n",
    "for epoch in range(1):\n",
    "    epoch_loss = []\n",
    "    for k, (data, _) in enumerate(dataloader):\n",
    "        x_train = Variable(data.type(torch.FloatTensor), requires_grad=True).cuda()\n",
    "        output = model(x_train)\n",
    "\n",
    "        loss = loss_fn(output, targets[k,:,:])\n",
    "        optimizer.zero_grad()\n",
    "        loss.backward()\n",
    "        optimizer.step()\n",
    "        \n",
    "        epoch_loss.append(loss.data[0])\n",
    "        \n",
    "        if k % (10000//bs//5) == 0:\n",
    "            print('[{}:{}]  {}'.format(epoch,k,loss.data[0]))\n",
    "            \n",
    "    total_loss.append(np.mean(epoch_loss))\n",
    "    print('\\nepoch {} loss: {}\\n'.format(k, total_loss[-1]))"
   ]
  },
  {
   "cell_type": "code",
   "execution_count": null,
   "metadata": {},
   "outputs": [],
   "source": []
  }
 ],
 "metadata": {
  "kernelspec": {
   "display_name": "Python 3",
   "language": "python",
   "name": "python3"
  },
  "language_info": {
   "codemirror_mode": {
    "name": "ipython",
    "version": 3
   },
   "file_extension": ".py",
   "mimetype": "text/x-python",
   "name": "python",
   "nbconvert_exporter": "python",
   "pygments_lexer": "ipython3",
   "version": "3.6.3"
  }
 },
 "nbformat": 4,
 "nbformat_minor": 2
}
